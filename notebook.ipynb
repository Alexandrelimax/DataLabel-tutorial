{
 "cells": [
  {
   "cell_type": "markdown",
   "metadata": {},
   "source": [
    "# Como instalar LabelImg para criação de rotulagem (Data Label)"
   ]
  },
  {
   "cell_type": "markdown",
   "metadata": {},
   "source": [
    "### Abra uma outra aba no navegador e acesse o repositório do [labelImg](https://github.com/heartexlabs/labelImg)"
   ]
  },
  {
   "cell_type": "markdown",
   "metadata": {},
   "source": [
    "Agora iremos criar um diretório no nosso espaço de trabalho, lá criaremos um diretório chamado imgs onde colocaremos as imagens que queremos rotular. Cabe salientar que que se houver mais de uma classe que você deseja catalogar, é interessante e prudente criar diretórios internos dentro da pasta imgs para não haver o risco misturar."
   ]
  },
  {
   "cell_type": "markdown",
   "metadata": {},
   "source": [
    "Agora o que devemos fazer é navegar até o diretório raiz do nosso projeto, abrir um terminal e clonar o repositório do labelimg"
   ]
  },
  {
   "cell_type": "markdown",
   "metadata": {},
   "source": [
    "Após o clone ser efetuado iremos navegar ate a pasta do labelimg usando: ```cd labelImg```"
   ]
  },
  {
   "cell_type": "markdown",
   "metadata": {},
   "source": [
    "Criaremos um arquivo chamado ```classes.txt```, onde definiremos os rótulos que iremos utilizar."
   ]
  },
  {
   "cell_type": "markdown",
   "metadata": {},
   "source": [
    "E aqui iremos instalar algumas dependencias necessárias para o projeto sendo elas o ```PyQt5```, ```lxml``` e a própria linguagem python é fundamental estar instalada "
   ]
  },
  {
   "cell_type": "markdown",
   "metadata": {},
   "source": [
    "pip install pyqt5\n",
    "\n",
    "pip install lxml\n",
    "\n",
    "pip install pyqt5-tools\n"
   ]
  },
  {
   "cell_type": "markdown",
   "metadata": {},
   "source": [
    "Agora iremos executar o comando: ```pyrcc5 -o libs/resources.py resources.qrc```"
   ]
  },
  {
   "cell_type": "markdown",
   "metadata": {},
   "source": [
    "Com isso podemos executar o projeto e setaremos algumas instruções\n",
    "\n",
    "python labelImg.py <'diretório da pasta de imagens de destino'> <'arquivo de classes de rotulação'>"
   ]
  },
  {
   "cell_type": "markdown",
   "metadata": {},
   "source": [
    "exemplo: \n",
    "\n",
    "python labelImg.py ../imgs/carros classes.txt"
   ]
  },
  {
   "cell_type": "markdown",
   "metadata": {},
   "source": [
    "Após apertar Enter a ferramenta de rotulagem será aberta e lá conterá as classes que você definiu anteriormente para rotulagem"
   ]
  },
  {
   "cell_type": "markdown",
   "metadata": {},
   "source": [
    "Você pode clicar em Create RectBox para selecionar a área desejada"
   ]
  },
  {
   "cell_type": "markdown",
   "metadata": {},
   "source": [
    "### Importante!!!\n",
    "\n",
    "Você deve definir o tipo de exportação que deseja. \n",
    "A ferramenta dispõe do tipo YOLO ou em XML"
   ]
  },
  {
   "cell_type": "markdown",
   "metadata": {},
   "source": [
    "Caso opte por um tipo YOLO a exportação vem em um arquivo .txt, onde as coordenadas estão normalizadas"
   ]
  },
  {
   "cell_type": "markdown",
   "metadata": {},
   "source": [
    "Caso opte por um tipo XML as coordenadas vem em um arquivo .xml onde há mais informações como, width e height, além das coordenadas já estarem em sua forma original"
   ]
  },
  {
   "cell_type": "markdown",
   "metadata": {},
   "source": [
    "Lembre-se sempre de selecionar seu Bbox e salvar, após isto a ferramenta criará um arquivo de saída no formato/tipo que você definiu."
   ]
  },
  {
   "cell_type": "code",
   "execution_count": 3,
   "metadata": {},
   "outputs": [],
   "source": [
    "import xml.etree.ElementTree as ET\n",
    "import json"
   ]
  },
  {
   "cell_type": "code",
   "execution_count": 4,
   "metadata": {},
   "outputs": [],
   "source": [
    "def parse_xml_to_json(path):\n",
    "    tree = ET.parse(path)\n",
    "    root = tree.getroot()\n",
    "    size = root.find('size')\n",
    "    \n",
    "    content = {\n",
    "        'width': int(size.find('width').text),\n",
    "        'height': int(size.find('height').text),\n",
    "        'bbox': []\n",
    "    }\n",
    "\n",
    "    for obj in root.findall('.//object'):\n",
    "        bbox = obj.find('bndbox')\n",
    "        xmin = int(bbox.find('xmin').text)\n",
    "        ymin = int(bbox.find('ymin').text)\n",
    "        xmax = int(bbox.find('xmax').text)\n",
    "        ymax = int(bbox.find('ymax').text)\n",
    "\n",
    "        content['bbox'].extend([xmin, ymin, xmax, ymax])\n",
    "\n",
    "    return json.dumps(content) \n"
   ]
  },
  {
   "cell_type": "code",
   "execution_count": 5,
   "metadata": {},
   "outputs": [
    {
     "data": {
      "text/plain": [
       "'{\"width\": 7680, \"height\": 4320, \"bbox\": [3778, 185, 7253, 2710]}'"
      ]
     },
     "execution_count": 5,
     "metadata": {},
     "output_type": "execute_result"
    }
   ],
   "source": [
    "result_json = parse_xml_to_json('arquivo.xml')\n",
    "result_json"
   ]
  }
 ],
 "metadata": {
  "kernelspec": {
   "display_name": "Python 3",
   "language": "python",
   "name": "python3"
  },
  "language_info": {
   "codemirror_mode": {
    "name": "ipython",
    "version": 3
   },
   "file_extension": ".py",
   "mimetype": "text/x-python",
   "name": "python",
   "nbconvert_exporter": "python",
   "pygments_lexer": "ipython3",
   "version": "3.12.0"
  }
 },
 "nbformat": 4,
 "nbformat_minor": 2
}
